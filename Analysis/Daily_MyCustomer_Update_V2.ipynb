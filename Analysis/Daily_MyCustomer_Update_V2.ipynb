{
 "cells": [
  {
   "cell_type": "markdown",
   "metadata": {},
   "source": [
    "**Import and call functions**"
   ]
  },
  {
   "cell_type": "code",
   "execution_count": 6,
   "metadata": {},
   "outputs": [],
   "source": [
    "#Import and functions\n",
    "try: import pandas as pd\n",
    "except ImportError:\n",
    "    import subprocess\n",
    "    subprocess.check_call(['pip','install','pandas'])\n",
    "    import pandas as pd\n",
    "\n",
    "pd.set_option('future.no_silent_downcasting',True)\n",
    "\n",
    "\n",
    "\n",
    "try: import numpy as np \n",
    "except ImportError:\n",
    "    import subprocess\n",
    "    subprocess.check_call(['pip','install','numpy'])\n",
    "    import numpy as np\n",
    "\n",
    "try: import glob\n",
    "except ImportError:\n",
    "    import subprocess\n",
    "    subprocess.check_call(['pip','install','glob'])\n",
    "    import glob\n",
    "\n",
    "\n",
    "import os\n",
    "import re\n",
    "import warnings\n",
    "from datetime import datetime, timedelta\n",
    "from openpyxl import load_workbook\n",
    "from sas7bdat import SAS7BDAT #not very useful as takes over 3hours just to read the MyCustomer Database\n",
    "\n",
    "\n",
    "#Adding Variables to limit data\n",
    "Current_date = datetime.now().date()\n",
    "QA_Start_date = datetime(Current_date.year,Current_date.month-1,1).date()\n",
    "QA_Stop_Date = datetime(Current_date.year,Current_date.month,1).date()-timedelta(days=1)\n",
    "ResDateStart = datetime(Current_date.year,Current_date.month,1).date()\n",
    "ResDateStop = datetime(Current_date.year,Current_date.month+1,1).date()-timedelta(days=1)\n",
    "GDPR_Date = Current_date-timedelta(days=365)\n",
    "Replace_dictionary = {'_x0020_':' ','_x0028_':'(','_x0029_':')','_x0026_':'&'}\n",
    "\n",
    "def Clean_location(row):\n",
    "    Location = row['LOCATION']\n",
    "    if Location =='Pudsey':\n",
    "        return 'Leeds'\n",
    "    elif Location == 'Leeds Headrow':\n",
    "        return 'Leeds'\n",
    "    elif Location=='Birm Liv St':\n",
    "        return 'Birmingham'\n",
    "    else:\n",
    "        return Location.capitalize()\n",
    "\n",
    "\n",
    "def Anonymize_data(row,GDPR_Date):\n",
    "    Anon_date = row['Response_date']\n",
    "    if Anon_date.date() < GDPR_Date:\n",
    "        return 0\n",
    "    else:\n",
    "        return row['Customer_Age']\n",
    "\n",
    "def Import_and_Merge(input_folder,file_extension=\"csv\"):\n",
    "    all_files = glob.glob(os.path.join(input_folder,f'*.{file_extension}'))\n",
    "\n",
    "    dfs = []\n",
    "\n",
    "    for file_path in all_files:\n",
    "        if os.path.isfile(file_path):  # Check if it's a file\n",
    "            try:\n",
    "\n",
    "                # Read the file into a DataFrame\n",
    "                df = pd.read_csv(file_path,encoding='utf-8')  # Change this to pd.read_excel(file_path) for Excel files\n",
    "                dfs.append(df)\n",
    "            except pd.errors.ParserError as e:\n",
    "                print(f\"Error reading file {file_path}: {e}\")\n",
    "\n",
    "    # Concatenate all dataframes into one\n",
    "    combined_df = pd.concat(dfs, ignore_index=True)\n",
    "    return combined_df\n",
    "    "
   ]
  },
  {
   "cell_type": "markdown",
   "metadata": {},
   "source": [
    "**Dates and events**"
   ]
  },
  {
   "cell_type": "code",
   "execution_count": 2,
   "metadata": {},
   "outputs": [],
   "source": [
    "#list of Dates and events\n",
    "Surge_events = [{'Surge_start':'2018-02-24','Surge_stop':'2018-03-04'}#Beast from the east\n",
    ",{'Surge_start':'2020-02-09','Surge_stop':'2020-02-11'} #Storm Ciara\n",
    ",{'Surge_start':'2020-02-15','Surge_stop':'2020-02-21'} #Storm Dennis\n",
    ",{'Surge_start':'2020-03-01','Surge_stop':'2021-12-08'} #Covid19\n",
    "]\n",
    "\n",
    "#Covid flags\n",
    "Covid_Keywords = ['Covid','Coronavirus','virus','Lockdown','corona','lock down','pandemic','epidemic','unprecedented','isolation',\n",
    "'crisis','social distancing','NHS','Key Worker','Covid-19','Covid19','Covid9','masks','face masks','face coverings','Tier','Test and trace',\n",
    "'test & trace','T & T','T and T','T N T','track and trace','Plague','Mental','Financial','health','PPE','Vaccine','Pfizer','Astra Zenica',\n",
    "'Jab','innoculation','Moderna','Variant','Delta','Delta Variant','Omicron','Omicron Variant']\n",
    "\n",
    "\n",
    "#Cost of Living flags\n",
    "\n",
    "\n",
    "Covid_start_date = '2020-03-01'\n",
    "Covid_end_date = '2021-12-08'"
   ]
  },
  {
   "cell_type": "markdown",
   "metadata": {},
   "source": [
    "**Import old data and new data**"
   ]
  },
  {
   "cell_type": "code",
   "execution_count": 8,
   "metadata": {},
   "outputs": [
    {
     "name": "stderr",
     "output_type": "stream",
     "text": [
      "C:\\Users\\HUCC\\AppData\\Local\\Temp\\ipykernel_17792\\2170988717.py:4: DtypeWarning: Columns (1,2,7,18,23,25,26,32,34,42,46,47,48,50,53) have mixed types. Specify dtype option on import or set low_memory=False.\n",
      "  MyC_Old_Data = pd.read_csv(file_name,encoding='unicode_escape')\n"
     ]
    },
    {
     "name": "stdout",
     "output_type": "stream",
     "text": [
      "Error reading file \\\\rlbyccmpfs06\\public\\Private Cust Data\\Incoming_Data\\KPMG\\DashBoardData\\Archive\\Claims Archive\\2024\\Claims_MyCustomer_2024_May.csv: Error tokenizing data. C error: Expected 45 fields in line 547749, saw 84\n",
      "\n"
     ]
    },
    {
     "name": "stderr",
     "output_type": "stream",
     "text": [
      "C:\\Users\\HUCC\\AppData\\Local\\Temp\\ipykernel_17792\\3082295893.py:71: DtypeWarning: Columns (6) have mixed types. Specify dtype option on import or set low_memory=False.\n",
      "  df = pd.read_csv(file_path,encoding='utf-8')  # Change this to pd.read_excel(file_path) for Excel files\n"
     ]
    },
    {
     "name": "stdout",
     "output_type": "stream",
     "text": [
      "31/12/2023\n"
     ]
    }
   ],
   "source": [
    "Year = datetime.today().year\n",
    "#Old MyCustomer Data\n",
    "with open('\\\\\\\\RLBYCCMPFS06\\\\SWAP\\\\Claims Customer Experience Team\\\\02 Claims Customer Data\\\\07 MyCustomer\\\\MyCustomer_Database_V4.csv','r',encoding = 'latin-1') as file_name:\n",
    "    MyC_Old_Data = pd.read_csv(file_name,encoding='unicode_escape')\n",
    "\n",
    "#new MyCustomer Data\n",
    "input_folder = f'\\\\\\\\rlbyccmpfs06\\\\public\\\\Private Cust Data\\\\Incoming_Data\\\\KPMG\\\\DashBoardData\\\\Archive\\\\Claims Archive\\\\{Year}\\\\'\n",
    "\n",
    "combined_df = Import_and_Merge(input_folder)\n",
    "combined_df.drop_duplicates(keep='last',inplace=True)\n",
    "\n",
    "combined_df['Response Date'] = pd.to_datetime(combined_df['Response Date'],errors='coerce')\n",
    "combined_df['Response Date'] = combined_df['Response Date'].dt.strftime('%d/%m/%Y')\n",
    "combined_df['Transaction Date'] = pd.to_datetime(combined_df['Transaction Date'],errors='coerce')\n",
    "combined_df['Transaction Date'] = combined_df['Transaction Date'].dt.strftime('%d/%m/%Y')\n",
    "\n",
    "max_resDate=combined_df['Response Date'].max()\n",
    "print(max_resDate)\n",
    "\n",
    "New_Cols_to_Keep = ['Touchpoint','Message','Transaction Date','Channel','Director','Senior Manager','Manager','Transaction Type','Brand',\n",
    "'Product','Customer Tenure', 'Customer Age', 'Note Type','Claim no.','Claim ID','Policy Number', 'Date of Registration','Days since Registration','Loss Type', \n",
    "'ConExp','NPS','Ease','Cat 1',\n",
    "'Exceptions', 'Consultant ID','Suggested Survey', 'Suggested Survey 2', 'Journey Selected','Journey Satisfaction','Journey Message', \n",
    "'Source System','Status','Claims Advisor Name','Team Leader','ConversationId','Response Date']\n",
    "\n",
    "Old_Cols_to_Keep = ['Touchpoint','Message','Transaction_Date','Channel','Director','Senior_manager','Manager','Transaction_type',\n",
    "'Brand','Product','Customer_tenure', 'Customer_Age', 'Note_type','Claim_no_','Claim_ID',\n",
    "'Policy_Number', 'Date_of_registration','No__of_days_since_registration','Peril', 'ConExp','NPS','Ease','Cat_1',\n",
    "'Exceptions', 'RACF','SuggestedSurvey', 'SuggestedSurvey2', 'Selected_Journey','Journey_Satisfaction','Journey_Verbatim','Source_System',\n",
    "'Status','Claims_Advisor_Name','Team_Leader','ConversationId','Response_date']\n",
    "\n",
    "MYC_New = combined_df[New_Cols_to_Keep]\n",
    "MyC_Old = MyC_Old_Data[Old_Cols_to_Keep]\n"
   ]
  },
  {
   "cell_type": "markdown",
   "metadata": {},
   "source": [
    "**Combined the new files together**"
   ]
  },
  {
   "cell_type": "code",
   "execution_count": 9,
   "metadata": {},
   "outputs": [
    {
     "name": "stdout",
     "output_type": "stream",
     "text": [
      "05/06/2024\n"
     ]
    }
   ],
   "source": [
    "def align_column_names(df, column_mapping):\n",
    "    return df.rename(columns =column_mapping)\n",
    "\n",
    "column_mapping = {'Transaction Date':'Transaction_Date','Transaction Type':'Transaction_type','Customer Tenure':'Customer_tenure','Customer Age':'Customer_Age','Note Type':'Note_type','Claim no.':'Claim_no_','Claim ID':'Claim_ID','Policy Number':'Policy_Number','Date of Registration':'Date_of_registration',\n",
    "'Days since Registration':'No__of_days_since_registration','Loss Type':'Peril','Cat 1':'Cat_1','Consultant ID':'RACF','Suggested Survey':'SuggestedSurvey','Suggested Survey 2':'SuggestedSurvey2','Journey Selected':'Selected_Journey','Journey Satisfaction':'Journey_Satisfaction','Journey Message':'Journey_Verbatim',\n",
    "'Source System':'Source_System','Claims Advisor Name':'Claims_Advisor_Name','Team Leader':'Team_Leader','Response Date':'Response_date'}\n",
    "\n",
    "MYC_New = align_column_names(MYC_New,column_mapping)\n",
    "\n",
    "if MyC_Old.columns.duplicated().any():\n",
    "    print(\"Duplicate columns found in MyC_Old:\", MyC_Old.columns[MyC_Old.columns.duplicated()])\n",
    "\n",
    "columns_to_check = ['Claim_no_','Transaction_Date','RACF','Response_date','Transaction_type']\n",
    "MyC_Complete = pd.concat([MyC_Old,MYC_New],ignore_index=True).drop_duplicates(subset=columns_to_check)\n",
    "MyC_Complete['Response_date']=pd.to_datetime(MyC_Complete['Response_date'],format='%d/%m/%Y')\n",
    "#1731659 all fields\n",
    "#1718112 ['Claim_no_','Transaction_Date','RACF','Response_date','Transaction_type'] <---- using this one as most balanced\n",
    "#1666707 ['Claim_no_','Transaction_Date']\n",
    "\n",
    "MYC_complete_Max = pd.to_datetime(MyC_Complete['Response_date'],format='%d/%m/%Y').max()\n",
    "print(MYC_complete_Max.strftime('%d/%m/%Y'))\n"
   ]
  },
  {
   "cell_type": "markdown",
   "metadata": {},
   "source": [
    "**Brand Change of Motability**"
   ]
  },
  {
   "cell_type": "code",
   "execution_count": 10,
   "metadata": {},
   "outputs": [],
   "source": [
    "MyC_Complete.loc[MyC_Complete['Product']=='Motability','Brand']=\"Direct Line Motability\""
   ]
  },
  {
   "cell_type": "markdown",
   "metadata": {},
   "source": [
    "**Addition of FL data**"
   ]
  },
  {
   "cell_type": "code",
   "execution_count": 11,
   "metadata": {},
   "outputs": [],
   "source": [
    "Frontline = pd.read_csv('\\\\\\\\rlbyccmpfs06\\\\swap\\\\Claims Customer Experience Team\\\\02 Claims Customer Data\\\\07 MyCustomer\\\\SAS CSV inputs\\\\FL_HIERARCHY.csv')\n",
    "Departments = pd.read_excel('\\\\\\\\rlbyccmpfs06\\\\swap\\\\Claims Customer Experience Team\\\\02 Claims Customer Data\\\\07 MyCustomer\\\\SAS CSV inputs\\\\Department_Fix.xls')\n",
    "\n",
    "LB = pd.to_datetime('2000-01-01 00:00:00')\n",
    "UB = pd.to_datetime('2100-12-31 23:59:59')\n",
    "\n",
    "def parse_dates(date):\n",
    "    for fmt in ('%d/%m/%Y', '%d%b%Y', '%d%b%y', '%Y-%m-%d'):\n",
    "        try:\n",
    "            return pd.to_datetime(date, format=fmt)\n",
    "        except ValueError:\n",
    "            pass\n",
    "    # Handle dates far in the future\n",
    "    try:\n",
    "        if int(date[-4:]) > 2100:\n",
    "            return UB\n",
    "    except (ValueError, TypeError):\n",
    "        pass\n",
    "    raise ValueError(f\"No valid date format found for {date}\")\n",
    "\n",
    "FrontlineNew = Frontline.copy()\n",
    "\n",
    "FrontlineNew['EFF_START_DATE'] = Frontline['EFF_START_DATE'].apply(parse_dates).dt.strftime('%d/%m/%Y')\n",
    "FrontlineNew['EFF_END_DATE'] = Frontline['EFF_END_DATE'].apply(parse_dates).apply(lambda x:UB if x > UB else x).dt.strftime('%d/%m/%Y')\n",
    "FrontlineNew['LOCATION'] = Frontline['LOCATION'].replace(Replace_dictionary, regex=True)\n",
    "\n",
    "#remove NaN values\n",
    "Frontline['FL_Name']= Frontline['FL_Name'].fillna('')\n",
    "#Split the FL Name into FN and LN and recombine to CA Name\n",
    "FrontlineNew['Claims_Advisor_Name'] = Frontline['FL_Name'].apply(lambda x: ' '.join(x.split(', ')[::-1]))\n",
    "FrontlineNew['Claims_Advisor_Name'] = FrontlineNew['Claims_Advisor_Name'].replace(Replace_dictionary,regex=True)\n",
    "FrontlineNew['DEPARTMENT'] = Frontline['DEPARTMENT'].replace(Replace_dictionary,regex=True)\n",
    "\n"
   ]
  },
  {
   "cell_type": "markdown",
   "metadata": {},
   "source": [
    "**Merge MyCustomer With Frontline**"
   ]
  },
  {
   "cell_type": "code",
   "execution_count": 12,
   "metadata": {},
   "outputs": [],
   "source": [
    "\n",
    "chunk_size = 50000  # Adjust chunk size based on your system's memory capacity\n",
    "\n",
    "chunks = []\n",
    "for start in range(0, len(MyC_Complete), chunk_size):\n",
    "    MyC_chunk = MyC_Complete.iloc[start:start + chunk_size]\n",
    "    merged_chunk = pd.merge(MyC_chunk, FrontlineNew[['RACF', 'LOCATION', 'DEPARTMENT', 'EFF_START_DATE', 'EFF_END_DATE', 'Current_Record', 'Claims_Advisor_Name', 'USER_ACTIVE_FLG']],\n",
    "                            how='left', on='RACF', suffixes=('_MyC', '_FL'))\n",
    "    \n",
    "    # Convert the 'Transaction_Date' column to datetime without specifying format\n",
    "    merged_chunk['Transaction_Date'] = pd.to_datetime(merged_chunk['Transaction_Date'], dayfirst=True, errors='coerce')\n",
    "    # Convert 'EFF_START_DATE' and 'EFF_END_DATE' to datetime without specifying format\n",
    "    merged_chunk['EFF_START_DATE'] = pd.to_datetime(merged_chunk['EFF_START_DATE'], dayfirst=True, errors='coerce')\n",
    "    merged_chunk['EFF_END_DATE'] = pd.to_datetime(merged_chunk['EFF_END_DATE'], dayfirst=True, errors='coerce')\n",
    "\n",
    "    # Apply date filtering conditionally\n",
    "    date_filtered_chunk = merged_chunk[\n",
    "        (merged_chunk['Transaction_Date'] >= merged_chunk['EFF_START_DATE']) & \n",
    "        (merged_chunk['Transaction_Date'] <= merged_chunk['EFF_END_DATE'])\n",
    "    ]\n",
    "\n",
    "    # Handle rows where 'EFF_START_DATE' or 'EFF_END_DATE' are NaN (these rows are kept)\n",
    "    no_date_filtered_chunk = merged_chunk[\n",
    "        merged_chunk['EFF_START_DATE'].isna() | merged_chunk['EFF_END_DATE'].isna()\n",
    "    ]\n",
    "\n",
    "    # Combine the filtered and unfiltered chunks\n",
    "    combined_filtered_chunk = pd.concat([date_filtered_chunk, no_date_filtered_chunk]).drop_duplicates(keep='last')\n",
    "\n",
    "    chunks.append(combined_filtered_chunk)\n",
    "\n",
    "# Concatenate all chunks\n",
    "MyCustomer_merge = pd.concat(chunks, ignore_index=True)\n",
    "\n",
    "# Mark the current record\n",
    "MyCustomer_merge['Current_Record'] = MyCustomer_merge['Current_Record'].apply(lambda x: 'N' if x != 'Y' else x)\n",
    "\n"
   ]
  },
  {
   "cell_type": "markdown",
   "metadata": {},
   "source": [
    "**Department mapping**"
   ]
  },
  {
   "cell_type": "code",
   "execution_count": 13,
   "metadata": {},
   "outputs": [],
   "source": [
    "Department_Export = pd.DataFrame({'DEPARTMENT': MyCustomer_merge['DEPARTMENT'].unique()})\n",
    "#Department_Export['DEPARTMENT'] = Department_Export['DEPARTMENT'].replace(Replace_dictionary,regex=True)\n",
    "\n",
    "Excelfile = '\\\\\\\\rlbyccmpfs06\\\\swap\\\\Claims Customer Experience Team\\\\02 Claims Customer Data\\\\07 MyCustomer\\\\SAS CSV inputs\\\\Department_Fix_Python.xlsx' \n",
    "\n",
    "DWB = load_workbook(Excelfile,data_only=True)\n",
    "\n",
    "Export_sheet = DWB['Python Export']    \n",
    "\n",
    "for row in Export_sheet.iter_rows(min_row=2,max_row = Export_sheet.max_row,min_col=1,max_col=Export_sheet.max_column):\n",
    "    for cell in row:\n",
    "        cell.value = None\n",
    "\n",
    "for index, row in enumerate(Department_Export.iterrows(),start=2):\n",
    "    for col_index, value in enumerate(row[1]):\n",
    "        Export_sheet.cell(row=index,column=col_index+1,value=value)\n",
    "\n",
    "DWB.save(Excelfile)\n",
    "\n",
    "#Import the fixed data from excel back for matching\n",
    "\n",
    "sheet_imports = DWB['Import to Python']\n",
    "\n",
    "rows = []\n",
    "\n",
    "for row in sheet_imports.iter_rows(values_only=True):\n",
    "    rows.append(row)\n",
    "\n",
    "\n",
    "Mapped_Departments = pd.DataFrame(rows[1:],columns=rows[0])\n",
    "\n",
    "Mapped_Departments['Old Department '] = Mapped_Departments['Old Department '].fillna('')"
   ]
  },
  {
   "cell_type": "markdown",
   "metadata": {},
   "source": [
    "**Add to main dataframe**"
   ]
  },
  {
   "cell_type": "code",
   "execution_count": 14,
   "metadata": {},
   "outputs": [
    {
     "name": "stdout",
     "output_type": "stream",
     "text": [
      "Max response date before: 05/06/2024\n",
      "Max response date 2 before: 05/06/2024\n",
      "Max response date after: 31/12/2023\n"
     ]
    }
   ],
   "source": [
    "#Add new departments to MyCustomer Merge\n",
    "MyCustomer_DepFix = pd.merge(MyCustomer_merge,Mapped_Departments, how='left', left_on='DEPARTMENT',right_on='Old Department ') \n",
    "MyCustomer_DepFix.drop(columns=['DEPARTMENT','Old Department '],inplace=True)\n",
    "MyCustomer_DepFix.rename(columns={'Old Department ':'Department'}, inplace=True)\n",
    "MyCustomer_Clean = MyCustomer_DepFix.fillna('')\n",
    "\n",
    "#Adding in Offshore logic here\n",
    "Offshore_Location = ['pune','noida','cape town']\n",
    "\n",
    "MyCustomer_Clean['Offshore'] = MyCustomer_Clean.apply(\n",
    "    lambda row: 1 if row['LOCATION'].lower() in Offshore_Location or 'offshore' in row['Senior_manager'].lower() else 0,\n",
    "    axis=1\n",
    ")\n",
    "MyCustomer_Clean['Surge'] = 0 #initialize the field\n",
    "\n",
    "for Surge_event in Surge_events:\n",
    "    start_date = pd.to_datetime(Surge_event['Surge_start'])\n",
    "    end_date = pd.to_datetime(Surge_event['Surge_stop'])\n",
    "\n",
    "MyCustomer_Clean.loc[\n",
    "    (pd.to_datetime(MyCustomer_Clean['Transaction_Date'])>= start_date) \n",
    "    &\n",
    "     (pd.to_datetime(MyCustomer_Clean['Transaction_Date'])<= end_date),'Surge'] = 1\n",
    "\n",
    "MyCustomer_Clean['LOCATION'] = MyCustomer_Clean.apply(Clean_location,axis=1)\n",
    "MyCustomer_Clean['Response_date']=pd.to_datetime(MyCustomer_Clean['Response_date'],format = 'mixed')\n",
    "MyCustomer_Clean['Customer_Age'] = MyCustomer_Clean.apply(lambda row: Anonymize_data(row,GDPR_Date),axis=1)\n",
    "\n",
    "#Brand mapping\n",
    "Brand_mapping = {\"dir\":\"Direct Line\",\n",
    "                \"Dir\":\"Direct Line\",\n",
    "                \"Nation\":\"Nationwide Insurance\",\n",
    "                \"nation\":\"Nationwide Insurance\",\n",
    "                \"natw\":\"NatWest Insurance\",\n",
    "                \"Natw\":\"NatWest Insurance\",\n",
    "                \"NatW\":\"NatWest Insurance\",\n",
    "                \"RBS\":\"RBS Insurance\",\n",
    "                \"Prud\":\"Prudential Insurance\",\n",
    "                \"prud\":\"Prudential Insurance\",\n",
    "                \"Sains\":\"U K Insurance\",\n",
    "                \"UK Insurance\":\"U K Insurance\",\n",
    "                \"Cit\":\"Citroen Insurance\",\n",
    "                \"cit\":\"Citroen Insurance\",\n",
    "                \"Peu\":\"Peugeot Insurance\",\n",
    "                \"VW\":\"VW Group\",\n",
    "                \"Volk\":\"VW Group\",\n",
    "                \"Sko\":\"SKODA\",\n",
    "                \"SKO\":\"SKODA\",\n",
    "                \"Mota\":\"Direct Line Motability\"}\n",
    "\n",
    "for key, value in Brand_mapping.items():\n",
    "    MyCustomer_Clean.loc[MyCustomer_Clean['Brand'].str.contains(key,case=False),'Brand'] = value\n",
    "\n",
    "MyCustomer_Clean['Transaction_Date'] = pd.to_datetime(MyCustomer_Clean['Transaction_Date'])\n",
    "MyCustomer_Clean['ConExp'] = pd.to_numeric(MyCustomer_Clean['ConExp'],errors='coerce')\n",
    "MyCustomer_Clean['ConExp'] = MyCustomer_Clean['ConExp'].astype('Int64')\n",
    "\n",
    "MyCustomer_Clean.loc[(MyCustomer_Clean['Transaction_Date']<'2022-04-06')&(MyCustomer_Clean['Status']==\"\")&(MyCustomer_Clean['ConExp']> 4),'Status'] = \"Not an alert generating transaction\"\n",
    "MyCustomer_Clean.loc[(MyCustomer_Clean['Transaction_Date']<'2022-04-06')&(MyCustomer_Clean['ConExp']> 4),'Status'] = \"Not an alert generating transaction\"\n",
    "\n",
    "MyCustomer_Clean.loc[(MyCustomer_Clean['Transaction_Date']>='2022-04-06')&(MyCustomer_Clean['Status']==\"\")&(MyCustomer_Clean['ConExp']> 6),'Status'] = \"Not an alert generating transaction\"\n",
    "MyCustomer_Clean.loc[(MyCustomer_Clean['Transaction_Date']>='2022-04-06')&(MyCustomer_Clean['ConExp']> 6),'Status'] = \"Not an alert generating transaction\"\n",
    "MyCustomer_Clean.loc[(MyCustomer_Clean['Transaction_Date']>='2022-04-06')&(MyCustomer_Clean['Status']==\"\")&(MyCustomer_Clean['ConExp']<= 6),'Status'] = \"Open\"\n",
    "\n",
    "MyCustomer_Clean.loc[(MyCustomer_Clean['New Department']==\"\")&(MyCustomer_Clean['Product']==\"Travel\"),'New Department'] = \"Travel Resolution\"\n",
    "\n",
    "MyCustomer_Clean.rename(columns={'MyCustomer2_ref':'ConversationId','New Department':'Department','Journey_Sat':'Journey_Satisfaction',\n",
    "'Claims_Advisor_Name_MyC':'Claims_Advisor_Name','No__of_days_since_registration':'Days_since_registration','LOCATION':'Location'},inplace=True)\n",
    "\n",
    "\n",
    "MyCustomer_Clean['Date'] = (MyCustomer_Clean['Transaction_Date'] - pd.offsets.MonthBegin(1)).dt.strftime('%d/%m/%Y')\n",
    "MyCustomer_Clean['Quarter'] = pd.PeriodIndex(MyCustomer_Clean['Transaction_Date'],freq='Q').strftime('Q%q')\n",
    "MyCustomer_Clean['Next']=\"\"\n",
    "\n",
    "max_Rdate = MyCustomer_Clean['Response_date'].max()\n",
    "print('Max response date before:',max_Rdate.strftime('%d/%m/%Y'))\n",
    "\n",
    "MyCustomer_Clean['Response_date'] = pd.to_datetime(MyCustomer_Clean['Response_date'],format='%m/%d/%Y')\n",
    "max_Rdate2 = MyCustomer_Clean['Response_date'].max()\n",
    "print('Max response date 2 before:',max_Rdate.strftime('%d/%m/%Y'))\n",
    "\n",
    "MyCustomer_Clean['Response_date'] = MyCustomer_Clean['Response_date'].dt.strftime('%d/%m/%Y')\n",
    "\n",
    "max_Rdate3 = MyCustomer_Clean['Response_date'].max()\n",
    "print('Max response date after:',max_Rdate3)"
   ]
  },
  {
   "cell_type": "markdown",
   "metadata": {},
   "source": [
    "**MyCustomer export structure**"
   ]
  },
  {
   "cell_type": "code",
   "execution_count": 15,
   "metadata": {},
   "outputs": [
    {
     "name": "stdout",
     "output_type": "stream",
     "text": [
      "05/06/2024\n"
     ]
    }
   ],
   "source": [
    "MyCustomer_Final = MyCustomer_Clean.loc[:,[\n",
    "'Touchpoint',\n",
    "'ConversationId',\n",
    "'Message',\n",
    "'Response_date',\n",
    "'Transaction_Date',\n",
    "'Channel',\n",
    "'Director',\n",
    "'Senior_manager',\n",
    "'Manager',\n",
    "'Team_Leader',\n",
    "'Claims_Advisor_Name',   \n",
    "'Transaction_type',\n",
    "'Brand',\n",
    "'Product',\n",
    "'Customer_tenure',\n",
    "'Customer_Age',\n",
    "'Note_type',\n",
    "'Claim_no_' ,\n",
    "'Claim_ID',\n",
    "'Policy_Number',\n",
    "'Date_of_registration',\n",
    "'Days_since_registration',\n",
    "'ConExp',\n",
    "'NPS',\n",
    "'Ease',\n",
    "'Next',\n",
    "'Cat_1',\n",
    "'Status',\n",
    "'Department',\n",
    "'Location',\n",
    "'Date',\n",
    "'Offshore',\n",
    "'Surge',\n",
    "'Exceptions',\n",
    "'Peril',\n",
    "'RACF',\n",
    "'SuggestedSurvey',\n",
    "'SuggestedSurvey2',\n",
    "'Selected_Journey',\n",
    "'Journey_Satisfaction',\n",
    "'Journey_Verbatim',\n",
    "'Source_System',\n",
    "'Quarter'\n",
    "]]\n",
    "\n",
    "max_date = pd.to_datetime(MyCustomer_Final['Response_date'],format='%d/%m/%Y').max()\n",
    "print(max_date.strftime('%d/%m/%Y'))"
   ]
  },
  {
   "cell_type": "markdown",
   "metadata": {},
   "source": [
    "**Export for Sam**"
   ]
  },
  {
   "cell_type": "code",
   "execution_count": 16,
   "metadata": {},
   "outputs": [],
   "source": [
    "#sam export\n",
    "#Columns_to_Drop = ['Touchpoint','ConversationId','Message','Sentiment','Response_date','Action_date','Mobile_number','Same_brand_product_holding','Surname','Title','Next','Cat_2','Notes','Covid19']\n",
    "Current_Year = datetime.now().year\n",
    "Previous_year = Current_Year-1\n",
    "\n",
    "MyCustomer_For_Sam = MyCustomer_Final[MyCustomer_Final['Transaction_Date'].dt.year.isin([Current_Year,Previous_year])].sort_values(by='Transaction_Date').drop(columns=['Touchpoint'])\n",
    "\n",
    "Export_Location = \"\\\\\\\\rlbyccmpfs06\\\\swap\\\\Claims Customer Experience Team\\\\01 Claims Exec Packs\\\\Claims Exec Papers\\\\2024\\\\Data Sources\\\\\"\n",
    "FileName = f'MyCustomer_Raw_output_Reporting.csv'\n",
    "\n",
    "MyCustomer_For_Sam.to_csv(Export_Location+FileName,index=False)"
   ]
  },
  {
   "cell_type": "markdown",
   "metadata": {},
   "source": [
    "**Base file update for appending to**"
   ]
  },
  {
   "cell_type": "code",
   "execution_count": 19,
   "metadata": {},
   "outputs": [
    {
     "name": "stdout",
     "output_type": "stream",
     "text": [
      "file: MyCustomer_Python_Extract_5Y.csv complete\n",
      "file: MyCustomer_Database_V4.csv complete\n"
     ]
    }
   ],
   "source": [
    "Keep_Years = Current_Year-5\n",
    "\n",
    "MyCustomer_For_Keeping = MyCustomer_Final[MyCustomer_Final['Transaction_Date'].dt.year.between(Keep_Years,Current_Year)].sort_values(by='Transaction_Date')\n",
    "MyCustomer_For_Keeping['Transaction_Date'] = pd.to_datetime(MyCustomer_For_Keeping['Transaction_Date'],format = '%d/%m/%Y').dt.strftime('%d/%m/%Y')\n",
    "\n",
    "Keep_location = \"\\\\\\\\rlbyccmpfs06\\\\swap\\\\Claims Customer Experience Team\\\\02 Claims Customer Data\\\\07 MyCustomer\\\\Data\\\\\"\n",
    "keep_file = f'MyCustomer_Python_Extract_5Y.csv'\n",
    "\n",
    "endtime = datetime.now()\n",
    "print(f\"file: {keep_file} complete at {endtime.strftime('%H:%M:%S')}\")\n",
    "\n",
    "MyCustomer_For_Keeping.to_csv(Keep_location+keep_file,index=False)\n",
    "live_location = '\\\\\\\\RLBYCCMPFS06\\\\SWAP\\\\Claims Customer Experience Team\\\\02 Claims Customer Data\\\\07 MyCustomer\\\\'\n",
    "live_file = 'MyCustomer_Database_V4.csv'\n",
    "\n",
    "MyCustomer_For_Keeping.to_csv(live_location+live_file,index=False)\n",
    "print(f\"file: {live_file} complete\")\n",
    "\n",
    "endtime = datetime.now()\n",
    "print(f\"Process Completed at: {endtime.strftime('%H:%M:%S')}\")"
   ]
  },
  {
   "cell_type": "markdown",
   "metadata": {},
   "source": [
    "**Volume Check**"
   ]
  },
  {
   "cell_type": "code",
   "execution_count": 20,
   "metadata": {},
   "outputs": [
    {
     "name": "stdout",
     "output_type": "stream",
     "text": [
      "       Date     Product  Volume\n",
      "0   2024-01        Home    2553\n",
      "1   2024-01  Motability    2248\n",
      "2   2024-01       Motor    5739\n",
      "3   2024-01      Travel    2557\n",
      "4   2024-02        Home    1954\n",
      "5   2024-02  Motability    1967\n",
      "6   2024-02       Motor    5169\n",
      "7   2024-02      Travel    2045\n",
      "8   2024-03        Home    1840\n",
      "9   2024-03  Motability    1267\n",
      "10  2024-03       Motor    4958\n",
      "11  2024-03      Travel    1811\n",
      "12  2024-04        Home    1772\n",
      "13  2024-04  Motability     993\n",
      "14  2024-04       Motor    5141\n",
      "15  2024-04      Travel    1930\n",
      "16  2024-05        Home    1469\n",
      "17  2024-05  Motability     791\n",
      "18  2024-05       Motor    5207\n",
      "19  2024-05      Travel    1444\n",
      "20  2024-06        Home     126\n",
      "21  2024-06  Motability      44\n",
      "22  2024-06       Motor     356\n",
      "23  2024-06      Travel      83\n"
     ]
    },
    {
     "data": {
      "image/png": "[encoded data removed]",
      "text/plain": [
       "<Figure size 2000x600 with 1 Axes>"
      ]
     },
     "metadata": {},
     "output_type": "display_data"
    },
    {
     "name": "stdout",
     "output_type": "stream",
     "text": [
      "Process Completed at: 14:40:31\n"
     ]
    }
   ],
   "source": [
    "try: import matplotlib.pyplot as plt \n",
    "except ImportError:\n",
    "    import subprocess\n",
    "    subprocess.check_call(['pip','install','matplotlib'])\n",
    "    import matplotlib.pyplot as plt\n",
    "\n",
    "\n",
    "MyCustomer_Clean['Transaction_Date_2'] = pd.to_datetime(MyCustomer_Clean['Transaction_Date'],format = '%d/%m/%Y')\n",
    "MyCustomer_Clean['Date']=MyCustomer_Clean['Transaction_Date_2'].dt.to_period('M')\n",
    "MyCustomer_Clean['Transaction_Date_2'] = MyCustomer_Clean['Transaction_Date_2'].dt.strftime('%d/%m/%Y')\n",
    "\n",
    "\n",
    "Volume_Check = MyCustomer_Clean[MyCustomer_Clean['Date'].dt.year==2024].groupby(['Date','Product']).size().reset_index(name='Volume')\n",
    "#Volume_Check = MyCustomer_Clean.groupby(['Date','Product']).size().reset_index(name='Volume')\n",
    "\n",
    "print(Volume_Check)\n",
    "plt.figure(figsize=(20,6))\n",
    "\n",
    "for Product,group in Volume_Check.groupby('Product'):\n",
    "    plt.plot(group['Date'].astype(str),group['Volume'],marker = 'o', linestyle='-', label=Product)\n",
    "\n",
    "#plt.plot(Volume_Check['Date'].astype(str),Volume_Check['Volume'],marker='o',linestyle='-')\n",
    "plt.xlabel('Month')\n",
    "plt.ylabel('Vols')\n",
    "plt.title('Monthly Overall Volumes')\n",
    "plt.legend()\n",
    "plt.xticks(rotation=90)\n",
    "plt.tight_layout()\n",
    "plt.show()\n",
    "\n",
    "endtime = datetime.now()\n",
    "print(f\"Process Completed at: {endtime.strftime('%H:%M:%S')}\")"
   ]
  }
 ],
 "metadata": {
  "kernelspec": {
   "display_name": "Python 3.10.9 64-bit",
   "language": "python",
   "name": "python3"
  },
  "language_info": {
   "codemirror_mode": {
    "name": "ipython",
    "version": 3
   },
   "file_extension": ".py",
   "mimetype": "text/x-python",
   "name": "python",
   "nbconvert_exporter": "python",
   "pygments_lexer": "ipython3",
   "version": "3.10.9"
  },
  "orig_nbformat": 4,
  "vscode": {
   "interpreter": {
    "hash": "26de051ba29f2982a8de78e945f0abaf191376122a1563185a90213a26c5da77"
   }
  }
 },
 "nbformat": 4,
 "nbformat_minor": 2
}
